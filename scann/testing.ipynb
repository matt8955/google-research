{
 "metadata": {
  "language_info": {
   "codemirror_mode": {
    "name": "ipython",
    "version": 3
   },
   "file_extension": ".py",
   "mimetype": "text/x-python",
   "name": "python",
   "nbconvert_exporter": "python",
   "pygments_lexer": "ipython3",
   "version": "3.7.7-final"
  },
  "orig_nbformat": 2,
  "kernelspec": {
   "name": "Python 3.7.7 64-bit ('intelpython3': conda)",
   "display_name": "Python 3.7.7 64-bit ('intelpython3': conda)",
   "metadata": {
    "interpreter": {
     "hash": "7e2534589fa108ee618abf0d60289e061ace63ab103d9c6e14becfb127fe1a6a"
    }
   }
  }
 },
 "nbformat": 4,
 "nbformat_minor": 2,
 "cells": [
  {
   "cell_type": "code",
   "execution_count": 1,
   "metadata": {},
   "outputs": [],
   "source": [
    "  import tensorflow.compat.v2 as tf  # pylint: disable=g-import-not-at-top\n"
   ]
  },
  {
   "cell_type": "code",
   "execution_count": 2,
   "metadata": {},
   "outputs": [
    {
     "output_type": "execute_result",
     "data": {
      "text/plain": "[&#39;-L/Users/matt/.pyenv/versions/intelpython3/lib/python3.7/site-packages/tensorflow_core&#39;,\n &#39;-ltensorflow_framework.2&#39;]"
     },
     "metadata": {},
     "execution_count": 2
    }
   ],
   "source": [
    "tf.sysconfig.get_link_flags()"
   ]
  },
  {
   "cell_type": "code",
   "execution_count": null,
   "metadata": {},
   "outputs": [],
   "source": []
  }
 ]
}